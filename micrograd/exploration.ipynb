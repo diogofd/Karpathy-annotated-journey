{
 "cells": [
  {
   "cell_type": "markdown",
   "metadata": {},
   "source": [
    "# Micrograd\n",
    "\n",
    "- The link for the YouTube video is: [link](youtube.com) "
   ]
  },
  {
   "cell_type": "code",
   "execution_count": 105,
   "metadata": {},
   "outputs": [
    {
     "name": "stdout",
     "output_type": "stream",
     "text": [
      "Requirement already satisfied: micrograd in c:\\users\\diogo\\anaconda3\\envs\\pytorch_env\\lib\\site-packages (0.1.0)\n"
     ]
    }
   ],
   "source": [
    "!pip install micrograd"
   ]
  },
  {
   "cell_type": "code",
   "execution_count": 106,
   "metadata": {},
   "outputs": [
    {
     "name": "stdout",
     "output_type": "stream",
     "text": [
      "Requirement already satisfied: graphviz in c:\\users\\diogo\\anaconda3\\envs\\pytorch_env\\lib\\site-packages (0.20.3)\n"
     ]
    }
   ],
   "source": [
    "!pip install graphviz"
   ]
  },
  {
   "cell_type": "code",
   "execution_count": 107,
   "metadata": {},
   "outputs": [
    {
     "name": "stdout",
     "output_type": "stream",
     "text": [
      "Requirement already satisfied: matplotlib in c:\\users\\diogo\\anaconda3\\envs\\pytorch_env\\lib\\site-packages (3.10.1)\n",
      "Requirement already satisfied: contourpy>=1.0.1 in c:\\users\\diogo\\anaconda3\\envs\\pytorch_env\\lib\\site-packages (from matplotlib) (1.3.1)\n",
      "Requirement already satisfied: cycler>=0.10 in c:\\users\\diogo\\anaconda3\\envs\\pytorch_env\\lib\\site-packages (from matplotlib) (0.12.1)\n",
      "Requirement already satisfied: fonttools>=4.22.0 in c:\\users\\diogo\\anaconda3\\envs\\pytorch_env\\lib\\site-packages (from matplotlib) (4.56.0)\n",
      "Requirement already satisfied: kiwisolver>=1.3.1 in c:\\users\\diogo\\anaconda3\\envs\\pytorch_env\\lib\\site-packages (from matplotlib) (1.4.8)\n",
      "Requirement already satisfied: numpy>=1.23 in c:\\users\\diogo\\anaconda3\\envs\\pytorch_env\\lib\\site-packages (from matplotlib) (2.2.3)\n",
      "Requirement already satisfied: packaging>=20.0 in c:\\users\\diogo\\anaconda3\\envs\\pytorch_env\\lib\\site-packages (from matplotlib) (24.2)\n",
      "Requirement already satisfied: pillow>=8 in c:\\users\\diogo\\anaconda3\\envs\\pytorch_env\\lib\\site-packages (from matplotlib) (11.1.0)\n",
      "Requirement already satisfied: pyparsing>=2.3.1 in c:\\users\\diogo\\anaconda3\\envs\\pytorch_env\\lib\\site-packages (from matplotlib) (3.2.1)\n",
      "Requirement already satisfied: python-dateutil>=2.7 in c:\\users\\diogo\\anaconda3\\envs\\pytorch_env\\lib\\site-packages (from matplotlib) (2.9.0.post0)\n",
      "Requirement already satisfied: six>=1.5 in c:\\users\\diogo\\anaconda3\\envs\\pytorch_env\\lib\\site-packages (from python-dateutil>=2.7->matplotlib) (1.16.0)\n"
     ]
    }
   ],
   "source": [
    "!pip install matplotlib"
   ]
  },
  {
   "cell_type": "markdown",
   "metadata": {},
   "source": [
    "Let's start with an exmaple:"
   ]
  },
  {
   "cell_type": "code",
   "execution_count": 108,
   "metadata": {},
   "outputs": [
    {
     "name": "stdout",
     "output_type": "stream",
     "text": [
      "5.000000\n"
     ]
    }
   ],
   "source": [
    "from micrograd.engine import Value\n",
    "\n",
    "a = Value(-4.0)\n",
    "b = Value(2.0)\n",
    "c = a + b\n",
    "d = a * b + b**3\n",
    "c += 1 + c + (-a)\n",
    "d += d * 2 + (b + a).relu()\n",
    "d += 3 * d + (b - a).relu()\n",
    "e = c - d\n",
    "f = e**2\n",
    "g = f / 2.0\n",
    "g*= 10.0 / f\n",
    "\n",
    "print (f'{g.data:4f}')"
   ]
  },
  {
   "cell_type": "code",
   "execution_count": 109,
   "metadata": {},
   "outputs": [],
   "source": [
    "import math \n",
    "import numpy as np\n",
    "import matplotlib.pyplot as plt\n",
    "%matplotlib inline\n",
    "\n",
    "\n",
    "def f(x):\n",
    "    return 3*x**2 - 4*x + 5"
   ]
  },
  {
   "cell_type": "code",
   "execution_count": 110,
   "metadata": {},
   "outputs": [
    {
     "data": {
      "text/plain": [
       "20.0"
      ]
     },
     "execution_count": 110,
     "metadata": {},
     "output_type": "execute_result"
    }
   ],
   "source": [
    "f(3.0)"
   ]
  },
  {
   "cell_type": "code",
   "execution_count": 111,
   "metadata": {},
   "outputs": [
    {
     "data": {
      "image/png": "[encoded data removed]",
      "text/plain": [
       "<Figure size 640x480 with 1 Axes>"
      ]
     },
     "metadata": {},
     "output_type": "display_data"
    }
   ],
   "source": [
    "xs = np.arange(-5, 5, 0.25)\n",
    "ys = f(xs)\n",
    "plt.plot(xs, ys)\n",
    "plt.show()"
   ]
  },
  {
   "cell_type": "markdown",
   "metadata": {},
   "source": []
  },
  {
   "cell_type": "code",
   "execution_count": 112,
   "metadata": {},
   "outputs": [
    {
     "data": {
      "text/plain": [
       "14.00003000000538"
      ]
     },
     "execution_count": 112,
     "metadata": {},
     "output_type": "execute_result"
    }
   ],
   "source": [
    "h = 0.00001\n",
    "x = 3.0\n",
    "(f(x + h )-f(x))/h"
   ]
  },
  {
   "cell_type": "markdown",
   "metadata": {},
   "source": [
    "Doing the same computation for the value $x=-3$ we should reassess our expectation. What happens in this case?"
   ]
  },
  {
   "cell_type": "code",
   "execution_count": 113,
   "metadata": {},
   "outputs": [
    {
     "data": {
      "text/plain": [
       "3.0000002482211127e-05"
      ]
     },
     "execution_count": 113,
     "metadata": {},
     "output_type": "execute_result"
    }
   ],
   "source": [
    "h = 0.00001\n",
    "x = 2/3\n",
    "(f(x + h )-f(x))/h"
   ]
  },
  {
   "cell_type": "code",
   "execution_count": null,
   "metadata": {},
   "outputs": [],
   "source": []
  },
  {
   "cell_type": "markdown",
   "metadata": {},
   "source": [
    "We need a new data structure to deal with neural networks."
   ]
  },
  {
   "cell_type": "code",
   "execution_count": null,
   "metadata": {},
   "outputs": [],
   "source": [
    "class Value:\n",
    "    \n",
    "    def __init__(self, data, _children = (), _op = '', label = ''):\n",
    "        self.data = data\n",
    "        self.grad = 0.0\n",
    "        self._backward = lambda: None\n",
    "        self._prev = set(_children)\n",
    "        self._op = _op\n",
    "        self.label = label\n",
    "\n",
    "    def __repr__(self):\n",
    "        return f\"Value(data={self.data})\"\n",
    "    \n",
    "    def __add__(self,other):\n",
    "        out = Value(self.data + other.data, (self, other), '+')\n",
    "\n",
    "        def _backward():\n",
    "            self.grad += 1.0 * out.grad\n",
    "            other.grad += 1.0 * out.grad\n",
    "        out._backward = _backward()\n",
    "        \n",
    "        return out\n",
    "    \n",
    "    def __mul__(self, other):\n",
    "        \n",
    "        out = Value(self.data * other.data, (self, other), '*')\n",
    "    \n",
    "        def _backward():\n",
    "            \n",
    "            self.grad = other.data * self.grad\n",
    "            other.grad = self.data * other.grad\n",
    "\n",
    "        out._backward = _backward() \n",
    "\n",
    "        return out\n",
    "    \n",
    "\n",
    "    \n",
    "    def tanh(self):\n",
    "        n = self.data\n",
    "        t = (math.exp(2*n) - 1)/(math.exp(2*n) + 1)\n",
    "        out = Value(t, (self, ), 'tanh')\n",
    "\n",
    "        def _backward():\n",
    "            self.grad (1 - t**2) * out.grad \n",
    "        \n",
    "        out._backward = _backward()\n",
    "\n",
    "        return out\n"
   ]
  },
  {
   "cell_type": "code",
   "execution_count": 328,
   "metadata": {},
   "outputs": [],
   "source": [
    "from graphviz import Digraph\n",
    "\n",
    "def trace(root):\n",
    "    # builds a set of all nodes and edges in a graph\n",
    "    nodes, edges = set(), set()\n",
    "    def build(v):\n",
    "        if v not in nodes:\n",
    "            nodes.add(v)\n",
    "            for child in v._prev:\n",
    "                edges.add((child,v))\n",
    "                build(child)\n",
    "    build(root)\n",
    "    return nodes, edges\n",
    "\n",
    "def draw_dot(root):\n",
    "    dot = Digraph(format='svg', graph_attr={'rankdir': 'LR'}) # LR = left to right\n",
    "\n",
    "    nodes, edges = trace(root)\n",
    "    for n in nodes:\n",
    "        uid = str(id(n))\n",
    "        dot.node(name = uid, label = '{ %s | data %.4f | grad %.4f}' % (n.label, n.data, n.grad), shape = 'record')\n",
    "        if n._op:\n",
    "            dot.node(name = uid + n._op, label = n._op)\n",
    "            dot.edge(uid + n._op, uid)\n",
    "    \n",
    "    for n1, n2 in edges:\n",
    "        dot.edge(str(id(n1)), str(id(n2)) + n2._op) \n",
    "\n",
    "    return dot"
   ]
  },
  {
   "cell_type": "code",
   "execution_count": 329,
   "metadata": {},
   "outputs": [
    {
     "ename": "NameError",
     "evalue": "name 'L' is not defined",
     "output_type": "error",
     "traceback": [
      "\u001b[1;31m---------------------------------------------------------------------------\u001b[0m",
      "\u001b[1;31mNameError\u001b[0m                                 Traceback (most recent call last)",
      "Cell \u001b[1;32mIn[329], line 1\u001b[0m\n\u001b[1;32m----> 1\u001b[0m draw_dot(L)\n",
      "\u001b[1;31mNameError\u001b[0m: name 'L' is not defined"
     ]
    }
   ],
   "source": [
    "draw_dot(L)"
   ]
  },
  {
   "cell_type": "markdown",
   "metadata": {},
   "source": [
    "The goal is to do propagation now.\n",
    "\n",
    "\n",
    "What happens when we change $L$ with respect to $L$.\n",
    "\n",
    "We need the chain rule if we want to understand $\\frac{\\partial L}{\\partial c}$. The chain  "
   ]
  },
  {
   "cell_type": "code",
   "execution_count": 66,
   "metadata": {},
   "outputs": [],
   "source": [
    "L.grad = 1.0\n",
    "f.grad = 4.0\n",
    "d.grad = -2.0\n",
    "\n",
    "c.grad = -2.0\n",
    "e.grad = -2.0\n",
    "\n",
    "a.grad = (-2.0 * -3.0)\n",
    "b.grad = (-2.0 * 2.0)"
   ]
  },
  {
   "cell_type": "code",
   "execution_count": 76,
   "metadata": {},
   "outputs": [
    {
     "name": "stdout",
     "output_type": "stream",
     "text": [
      "-3.9311360000000013\n"
     ]
    }
   ],
   "source": [
    "a.data += 0.01 * a.grad\n",
    "b.data += 0.01 * b.grad\n",
    "c.data += 0.01 * c.grad\n",
    "f.data += 0.01 * f.grad\n",
    "\n",
    "e = a * b\n",
    "d = e + c\n",
    "L = d * f\n",
    "\n",
    "print(L.data)\n"
   ]
  },
  {
   "cell_type": "code",
   "execution_count": null,
   "metadata": {},
   "outputs": [
    {
     "name": "stdout",
     "output_type": "stream",
     "text": [
      "6.000000000021544\n"
     ]
    }
   ],
   "source": [
    "def lol():\n",
    "    \n",
    "    h = 0.0001\n",
    "\n",
    "    a = Value(2.0, label='a')\n",
    "    b = Value(-3.0, label='b')\n",
    "    c = Value(10.0, label='c')\n",
    "    e = a*b; e.label = 'e'\n",
    "    d = e + c; d.label = 'd'\n",
    "    f  = Value(-2.0, label='f')\n",
    "    L = d * f; L.label = \"L\"\n",
    "    L1 = L.data\n",
    "\n",
    "    a = Value(2.0, label='a')\n",
    "    b = Value(-3.0, label='b')\n",
    "    c = Value(10.0, label='c')\n",
    "    e = a*b; e.label = 'e'\n",
    "    d = e + c; d.label = 'd'\n",
    "    f  = Value(-2.0, label='f')\n",
    "    L = d * f; L.label = \"L\"\n",
    "    L2 = L.data \n",
    "\n",
    "    print((L2-L1)/h)\n",
    "\n",
    "lol()"
   ]
  },
  {
   "cell_type": "code",
   "execution_count": 79,
   "metadata": {},
   "outputs": [
    {
     "data": {
      "image/png": "[encoded data removed]",
      "text/plain": [
       "<Figure size 640x480 with 1 Axes>"
      ]
     },
     "metadata": {},
     "output_type": "display_data"
    }
   ],
   "source": [
    "plt.plot(np.arange(-5, 5, .2), np.tanh(np.arange(-5,5,0.2))); plt.grid(); plt.show()"
   ]
  },
  {
   "cell_type": "code",
   "execution_count": 363,
   "metadata": {},
   "outputs": [],
   "source": [
    "class Value:\n",
    "    \n",
    "    def __init__(self, data, _children = (), _op = '', label = ''):\n",
    "        self.data = data\n",
    "        self.grad = 0.0\n",
    "        self._backward = lambda: None\n",
    "        self._prev = set(_children)\n",
    "        self._op = _op\n",
    "        self.label = label\n",
    "\n",
    "    def __repr__(self):\n",
    "        return f\"Value(data={self.data})\"\n",
    "    \n",
    "    def __add__(self,other):\n",
    "        out = Value(self.data + other.data, (self, other), '+')\n",
    "\n",
    "        def _backward():\n",
    "            self.grad += 1.0 * out.grad\n",
    "            other.grad += 1.0 * out.grad\n",
    "        out._backward = _backward\n",
    "        \n",
    "        return out\n",
    "    \n",
    "    def __mul__(self, other):\n",
    "        \n",
    "        out = Value(self.data * other.data, (self, other), '*')\n",
    "    \n",
    "        def _backward():\n",
    "            self.grad += other.data * out.grad\n",
    "            other.grad += self.data * out.grad\n",
    "\n",
    "        out._backward = _backward\n",
    "\n",
    "        return out\n",
    "    \n",
    "\n",
    "    \n",
    "    def tanh(self):\n",
    "        n = self.data\n",
    "        t = (math.exp(2*n) - 1)/(math.exp(2*n) + 1)\n",
    "        out = Value(t, (self, ), 'tanh')\n",
    "\n",
    "        def _backward():\n",
    "            self.grad = (1 - t**2) * out.grad \n",
    "        \n",
    "        out._backward = _backward\n",
    "\n",
    "        return out\n",
    "    \n",
    "\n",
    "    def backward(self):\n",
    "\n",
    "        topo = []\n",
    "        visited = set()\n",
    "        def build_topo(v):\n",
    "            if v not in visited:\n",
    "                visited.append(v)\n",
    "                for child in v._prev:\n",
    "                    build_topo(v)\n",
    "                topo.append(v)\n",
    "        topo = build_topo(self)\n",
    "\n",
    "        self.grad = 1.0\n",
    "        \n",
    "        for node in reversed(topo):\n",
    "            node._backward() "
   ]
  },
  {
   "cell_type": "code",
   "execution_count": 337,
   "metadata": {},
   "outputs": [
    {
     "data": {
      "text/plain": [
       "[Value(data=6.881373587019543),\n",
       " Value(data=2.0),\n",
       " Value(data=-3.0),\n",
       " Value(data=-6.0),\n",
       " Value(data=0.0),\n",
       " Value(data=1.0),\n",
       " Value(data=0.0),\n",
       " Value(data=-6.0),\n",
       " Value(data=0.8813735870195432),\n",
       " Value(data=0.7071067811865476)]"
      ]
     },
     "execution_count": 337,
     "metadata": {},
     "output_type": "execute_result"
    }
   ],
   "source": [
    "x1 = Value(2.0, label='x1')\n",
    "x2 = Value(0.0, label='x2')\n",
    "\n",
    "w1 = Value(-3.0, label = \"w1\")\n",
    "w2 = Value(1.0, label = \"w2\")\n",
    "\n",
    "b = Value(6.8813735870195432, label=\"b\")\n",
    "\n",
    "x1w1 = x1 * w1; x1w1.label = \"x1w1\"\n",
    "x2w2 = x2 * w2; x2w2.label = \"x2w2\"\n",
    "\n",
    "x1w1x2w2 = x1w1 + x2w2; x1w1x2w2.label = \"x1w1 + x2w2\"\n",
    "n = x1w1x2w2 + b; n.label = \"n\"\n",
    "o = n.tanh()\n",
    "o.label = 'o'\n",
    "\n",
    "\n",
    "\n",
    "\n",
    "\n",
    "topo = []\n",
    "visited = set()\n",
    "def build_topo(v):\n",
    "    if v not in visited:\n",
    "        visited.add(v)\n",
    "        for child in v._prev:\n",
    "            build_topo(child)\n",
    "        topo.append(v)\n",
    "build_topo(o)\n",
    "\n",
    "topo\n"
   ]
  },
  {
   "cell_type": "code",
   "execution_count": 184,
   "metadata": {},
   "outputs": [
    {
     "data": {
      "image/svg+xml": [
       "<?xml version=\"1.0\" encoding=\"UTF-8\" standalone=\"no\"?>\n",
       "<!DOCTYPE svg PUBLIC \"-//W3C//DTD SVG 1.1//EN\"\n",
       " \"http://www.w3.org/Graphics/SVG/1.1/DTD/svg11.dtd\">\n",
       "<!-- Generated by graphviz version 12.2.1 (20241206.2353)\n",
       " -->\n",
       "<!-- Pages: 1 -->\n",
       "<svg width=\"1546pt\" height=\"210pt\"\n",
       " viewBox=\"0.00 0.00 1546.25 210.00\" xmlns=\"http://www.w3.org/2000/svg\" xmlns:xlink=\"http://www.w3.org/1999/xlink\">\n",
       "<g id=\"graph0\" class=\"graph\" transform=\"scale(1 1) rotate(0) translate(4 206)\">\n",
       "<polygon fill=\"white\" stroke=\"none\" points=\"-4,4 -4,-206 1542.25,-206 1542.25,4 -4,4\"/>\n",
       "<!-- 1656572307536 -->\n",
       "<g id=\"node1\" class=\"node\">\n",
       "<title>1656572307536</title>\n",
       "<polygon fill=\"none\" stroke=\"black\" points=\"1044.75,-54.5 1044.75,-90.5 1228.5,-90.5 1228.5,-54.5 1044.75,-54.5\"/>\n",
       "<text text-anchor=\"middle\" x=\"1056.12\" y=\"-67.7\" font-family=\"Times New Roman,serif\" font-size=\"14.00\">n</text>\n",
       "<polyline fill=\"none\" stroke=\"black\" points=\"1067.5,-55 1067.5,-90.5\"/>\n",
       "<text text-anchor=\"middle\" x=\"1107.38\" y=\"-67.7\" font-family=\"Times New Roman,serif\" font-size=\"14.00\">data 0.8814</text>\n",
       "<polyline fill=\"none\" stroke=\"black\" points=\"1147.25,-55 1147.25,-90.5\"/>\n",
       "<text text-anchor=\"middle\" x=\"1187.88\" y=\"-67.7\" font-family=\"Times New Roman,serif\" font-size=\"14.00\">grad 0.5000</text>\n",
       "</g>\n",
       "<!-- 1656572306256tanh -->\n",
       "<g id=\"node10\" class=\"node\">\n",
       "<title>1656572306256tanh</title>\n",
       "<ellipse fill=\"none\" stroke=\"black\" cx=\"1291.5\" cy=\"-72.5\" rx=\"27\" ry=\"18\"/>\n",
       "<text text-anchor=\"middle\" x=\"1291.5\" y=\"-67.45\" font-family=\"Times New Roman,serif\" font-size=\"14.00\">tanh</text>\n",
       "</g>\n",
       "<!-- 1656572307536&#45;&gt;1656572306256tanh -->\n",
       "<g id=\"edge9\" class=\"edge\">\n",
       "<title>1656572307536&#45;&gt;1656572306256tanh</title>\n",
       "<path fill=\"none\" stroke=\"black\" d=\"M1228.76,-72.5C1237.14,-72.5 1245.27,-72.5 1252.73,-72.5\"/>\n",
       "<polygon fill=\"black\" stroke=\"black\" points=\"1252.7,-76 1262.7,-72.5 1252.7,-69 1252.7,-76\"/>\n",
       "</g>\n",
       "<!-- 1656572307536+ -->\n",
       "<g id=\"node2\" class=\"node\">\n",
       "<title>1656572307536+</title>\n",
       "<ellipse fill=\"none\" stroke=\"black\" cx=\"981.75\" cy=\"-72.5\" rx=\"27\" ry=\"18\"/>\n",
       "<text text-anchor=\"middle\" x=\"981.75\" y=\"-67.45\" font-family=\"Times New Roman,serif\" font-size=\"14.00\">+</text>\n",
       "</g>\n",
       "<!-- 1656572307536+&#45;&gt;1656572307536 -->\n",
       "<g id=\"edge1\" class=\"edge\">\n",
       "<title>1656572307536+&#45;&gt;1656572307536</title>\n",
       "<path fill=\"none\" stroke=\"black\" d=\"M1009.03,-72.5C1016.17,-72.5 1024.36,-72.5 1033.07,-72.5\"/>\n",
       "<polygon fill=\"black\" stroke=\"black\" points=\"1032.81,-76 1042.81,-72.5 1032.81,-69 1032.81,-76\"/>\n",
       "</g>\n",
       "<!-- 1656519857824 -->\n",
       "<g id=\"node3\" class=\"node\">\n",
       "<title>1656519857824</title>\n",
       "<polygon fill=\"none\" stroke=\"black\" points=\"326.25,-110.5 326.25,-146.5 533.25,-146.5 533.25,-110.5 326.25,-110.5\"/>\n",
       "<text text-anchor=\"middle\" x=\"349.25\" y=\"-123.7\" font-family=\"Times New Roman,serif\" font-size=\"14.00\">x2w2</text>\n",
       "<polyline fill=\"none\" stroke=\"black\" points=\"372.25,-111 372.25,-146.5\"/>\n",
       "<text text-anchor=\"middle\" x=\"412.12\" y=\"-123.7\" font-family=\"Times New Roman,serif\" font-size=\"14.00\">data 0.0000</text>\n",
       "<polyline fill=\"none\" stroke=\"black\" points=\"452,-111 452,-146.5\"/>\n",
       "<text text-anchor=\"middle\" x=\"492.62\" y=\"-123.7\" font-family=\"Times New Roman,serif\" font-size=\"14.00\">grad 0.5000</text>\n",
       "</g>\n",
       "<!-- 1656519858368+ -->\n",
       "<g id=\"node6\" class=\"node\">\n",
       "<title>1656519858368+</title>\n",
       "<ellipse fill=\"none\" stroke=\"black\" cx=\"598.5\" cy=\"-100.5\" rx=\"27\" ry=\"18\"/>\n",
       "<text text-anchor=\"middle\" x=\"598.5\" y=\"-95.45\" font-family=\"Times New Roman,serif\" font-size=\"14.00\">+</text>\n",
       "</g>\n",
       "<!-- 1656519857824&#45;&gt;1656519858368+ -->\n",
       "<g id=\"edge12\" class=\"edge\">\n",
       "<title>1656519857824&#45;&gt;1656519858368+</title>\n",
       "<path fill=\"none\" stroke=\"black\" d=\"M533.51,-111.25C543.16,-109.62 552.45,-108.06 560.82,-106.66\"/>\n",
       "<polygon fill=\"black\" stroke=\"black\" points=\"561.2,-110.15 570.48,-105.04 560.04,-103.24 561.2,-110.15\"/>\n",
       "</g>\n",
       "<!-- 1656519857824* -->\n",
       "<g id=\"node4\" class=\"node\">\n",
       "<title>1656519857824*</title>\n",
       "<ellipse fill=\"none\" stroke=\"black\" cx=\"261\" cy=\"-128.5\" rx=\"27\" ry=\"18\"/>\n",
       "<text text-anchor=\"middle\" x=\"261\" y=\"-123.45\" font-family=\"Times New Roman,serif\" font-size=\"14.00\">*</text>\n",
       "</g>\n",
       "<!-- 1656519857824*&#45;&gt;1656519857824 -->\n",
       "<g id=\"edge2\" class=\"edge\">\n",
       "<title>1656519857824*&#45;&gt;1656519857824</title>\n",
       "<path fill=\"none\" stroke=\"black\" d=\"M288.42,-128.5C296.08,-128.5 304.96,-128.5 314.47,-128.5\"/>\n",
       "<polygon fill=\"black\" stroke=\"black\" points=\"314.37,-132 324.37,-128.5 314.37,-125 314.37,-132\"/>\n",
       "</g>\n",
       "<!-- 1656519858368 -->\n",
       "<g id=\"node5\" class=\"node\">\n",
       "<title>1656519858368</title>\n",
       "<polygon fill=\"none\" stroke=\"black\" points=\"661.5,-82.5 661.5,-118.5 918.75,-118.5 918.75,-82.5 661.5,-82.5\"/>\n",
       "<text text-anchor=\"middle\" x=\"707.38\" y=\"-95.7\" font-family=\"Times New Roman,serif\" font-size=\"14.00\">x1w1 + x2w2</text>\n",
       "<polyline fill=\"none\" stroke=\"black\" points=\"753.25,-83 753.25,-118.5\"/>\n",
       "<text text-anchor=\"middle\" x=\"795.38\" y=\"-95.7\" font-family=\"Times New Roman,serif\" font-size=\"14.00\">data &#45;6.0000</text>\n",
       "<polyline fill=\"none\" stroke=\"black\" points=\"837.5,-83 837.5,-118.5\"/>\n",
       "<text text-anchor=\"middle\" x=\"878.12\" y=\"-95.7\" font-family=\"Times New Roman,serif\" font-size=\"14.00\">grad 0.5000</text>\n",
       "</g>\n",
       "<!-- 1656519858368&#45;&gt;1656572307536+ -->\n",
       "<g id=\"edge6\" class=\"edge\">\n",
       "<title>1656519858368&#45;&gt;1656572307536+</title>\n",
       "<path fill=\"none\" stroke=\"black\" d=\"M916.29,-82.02C926.15,-80.56 935.53,-79.18 943.92,-77.94\"/>\n",
       "<polygon fill=\"black\" stroke=\"black\" points=\"944.19,-81.44 953.58,-76.51 943.17,-74.51 944.19,-81.44\"/>\n",
       "</g>\n",
       "<!-- 1656519858368+&#45;&gt;1656519858368 -->\n",
       "<g id=\"edge3\" class=\"edge\">\n",
       "<title>1656519858368+&#45;&gt;1656519858368</title>\n",
       "<path fill=\"none\" stroke=\"black\" d=\"M625.87,-100.5C632.88,-100.5 640.96,-100.5 649.7,-100.5\"/>\n",
       "<polygon fill=\"black\" stroke=\"black\" points=\"649.57,-104 659.57,-100.5 649.57,-97 649.57,-104\"/>\n",
       "</g>\n",
       "<!-- 1656518544128 -->\n",
       "<g id=\"node7\" class=\"node\">\n",
       "<title>1656518544128</title>\n",
       "<polygon fill=\"none\" stroke=\"black\" points=\"2.25,-165.5 2.25,-201.5 195.75,-201.5 195.75,-165.5 2.25,-165.5\"/>\n",
       "<text text-anchor=\"middle\" x=\"18.5\" y=\"-178.7\" font-family=\"Times New Roman,serif\" font-size=\"14.00\">w2</text>\n",
       "<polyline fill=\"none\" stroke=\"black\" points=\"34.75,-166 34.75,-201.5\"/>\n",
       "<text text-anchor=\"middle\" x=\"74.62\" y=\"-178.7\" font-family=\"Times New Roman,serif\" font-size=\"14.00\">data 1.0000</text>\n",
       "<polyline fill=\"none\" stroke=\"black\" points=\"114.5,-166 114.5,-201.5\"/>\n",
       "<text text-anchor=\"middle\" x=\"155.12\" y=\"-178.7\" font-family=\"Times New Roman,serif\" font-size=\"14.00\">grad 0.0000</text>\n",
       "</g>\n",
       "<!-- 1656518544128&#45;&gt;1656519857824* -->\n",
       "<g id=\"edge13\" class=\"edge\">\n",
       "<title>1656518544128&#45;&gt;1656519857824*</title>\n",
       "<path fill=\"none\" stroke=\"black\" d=\"M172.12,-165.01C180.9,-162.35 189.7,-159.5 198,-156.5 208.09,-152.86 218.82,-148.27 228.47,-143.88\"/>\n",
       "<polygon fill=\"black\" stroke=\"black\" points=\"229.86,-147.09 237.45,-139.69 226.9,-140.75 229.86,-147.09\"/>\n",
       "</g>\n",
       "<!-- 1656519244560 -->\n",
       "<g id=\"node8\" class=\"node\">\n",
       "<title>1656519244560</title>\n",
       "<polygon fill=\"none\" stroke=\"black\" points=\"3.75,-110.5 3.75,-146.5 194.25,-146.5 194.25,-110.5 3.75,-110.5\"/>\n",
       "<text text-anchor=\"middle\" x=\"18.5\" y=\"-123.7\" font-family=\"Times New Roman,serif\" font-size=\"14.00\">x2</text>\n",
       "<polyline fill=\"none\" stroke=\"black\" points=\"33.25,-111 33.25,-146.5\"/>\n",
       "<text text-anchor=\"middle\" x=\"73.12\" y=\"-123.7\" font-family=\"Times New Roman,serif\" font-size=\"14.00\">data 0.0000</text>\n",
       "<polyline fill=\"none\" stroke=\"black\" points=\"113,-111 113,-146.5\"/>\n",
       "<text text-anchor=\"middle\" x=\"153.62\" y=\"-123.7\" font-family=\"Times New Roman,serif\" font-size=\"14.00\">grad 0.5000</text>\n",
       "</g>\n",
       "<!-- 1656519244560&#45;&gt;1656519857824* -->\n",
       "<g id=\"edge10\" class=\"edge\">\n",
       "<title>1656519244560&#45;&gt;1656519857824*</title>\n",
       "<path fill=\"none\" stroke=\"black\" d=\"M194.46,-128.5C204.21,-128.5 213.66,-128.5 222.21,-128.5\"/>\n",
       "<polygon fill=\"black\" stroke=\"black\" points=\"222.12,-132 232.12,-128.5 222.12,-125 222.12,-132\"/>\n",
       "</g>\n",
       "<!-- 1656572306256 -->\n",
       "<g id=\"node9\" class=\"node\">\n",
       "<title>1656572306256</title>\n",
       "<polygon fill=\"none\" stroke=\"black\" points=\"1354.5,-54.5 1354.5,-90.5 1538.25,-90.5 1538.25,-54.5 1354.5,-54.5\"/>\n",
       "<text text-anchor=\"middle\" x=\"1365.88\" y=\"-67.7\" font-family=\"Times New Roman,serif\" font-size=\"14.00\">o</text>\n",
       "<polyline fill=\"none\" stroke=\"black\" points=\"1377.25,-55 1377.25,-90.5\"/>\n",
       "<text text-anchor=\"middle\" x=\"1417.12\" y=\"-67.7\" font-family=\"Times New Roman,serif\" font-size=\"14.00\">data 0.7071</text>\n",
       "<polyline fill=\"none\" stroke=\"black\" points=\"1457,-55 1457,-90.5\"/>\n",
       "<text text-anchor=\"middle\" x=\"1497.62\" y=\"-67.7\" font-family=\"Times New Roman,serif\" font-size=\"14.00\">grad 1.0000</text>\n",
       "</g>\n",
       "<!-- 1656572306256tanh&#45;&gt;1656572306256 -->\n",
       "<g id=\"edge4\" class=\"edge\">\n",
       "<title>1656572306256tanh&#45;&gt;1656572306256</title>\n",
       "<path fill=\"none\" stroke=\"black\" d=\"M1318.78,-72.5C1325.92,-72.5 1334.11,-72.5 1342.82,-72.5\"/>\n",
       "<polygon fill=\"black\" stroke=\"black\" points=\"1342.56,-76 1352.56,-72.5 1342.56,-69 1342.56,-76\"/>\n",
       "</g>\n",
       "<!-- 1656518543824 -->\n",
       "<g id=\"node11\" class=\"node\">\n",
       "<title>1656518543824</title>\n",
       "<polygon fill=\"none\" stroke=\"black\" points=\"698.25,-27.5 698.25,-63.5 882,-63.5 882,-27.5 698.25,-27.5\"/>\n",
       "<text text-anchor=\"middle\" x=\"709.62\" y=\"-40.7\" font-family=\"Times New Roman,serif\" font-size=\"14.00\">b</text>\n",
       "<polyline fill=\"none\" stroke=\"black\" points=\"721,-28 721,-63.5\"/>\n",
       "<text text-anchor=\"middle\" x=\"760.88\" y=\"-40.7\" font-family=\"Times New Roman,serif\" font-size=\"14.00\">data 6.8814</text>\n",
       "<polyline fill=\"none\" stroke=\"black\" points=\"800.75,-28 800.75,-63.5\"/>\n",
       "<text text-anchor=\"middle\" x=\"841.38\" y=\"-40.7\" font-family=\"Times New Roman,serif\" font-size=\"14.00\">grad 0.5000</text>\n",
       "</g>\n",
       "<!-- 1656518543824&#45;&gt;1656572307536+ -->\n",
       "<g id=\"edge7\" class=\"edge\">\n",
       "<title>1656518543824&#45;&gt;1656572307536+</title>\n",
       "<path fill=\"none\" stroke=\"black\" d=\"M882.33,-58.49C904.17,-61.6 926.27,-64.74 943.98,-67.26\"/>\n",
       "<polygon fill=\"black\" stroke=\"black\" points=\"943.32,-70.71 953.71,-68.65 944.3,-63.78 943.32,-70.71\"/>\n",
       "</g>\n",
       "<!-- 1656571579280 -->\n",
       "<g id=\"node12\" class=\"node\">\n",
       "<title>1656571579280</title>\n",
       "<polygon fill=\"none\" stroke=\"black\" points=\"324,-55.5 324,-91.5 535.5,-91.5 535.5,-55.5 324,-55.5\"/>\n",
       "<text text-anchor=\"middle\" x=\"347\" y=\"-68.7\" font-family=\"Times New Roman,serif\" font-size=\"14.00\">x1w1</text>\n",
       "<polyline fill=\"none\" stroke=\"black\" points=\"370,-56 370,-91.5\"/>\n",
       "<text text-anchor=\"middle\" x=\"412.12\" y=\"-68.7\" font-family=\"Times New Roman,serif\" font-size=\"14.00\">data &#45;6.0000</text>\n",
       "<polyline fill=\"none\" stroke=\"black\" points=\"454.25,-56 454.25,-91.5\"/>\n",
       "<text text-anchor=\"middle\" x=\"494.88\" y=\"-68.7\" font-family=\"Times New Roman,serif\" font-size=\"14.00\">grad 0.5000</text>\n",
       "</g>\n",
       "<!-- 1656571579280&#45;&gt;1656519858368+ -->\n",
       "<g id=\"edge11\" class=\"edge\">\n",
       "<title>1656571579280&#45;&gt;1656519858368+</title>\n",
       "<path fill=\"none\" stroke=\"black\" d=\"M535.88,-90.52C544.59,-91.93 552.96,-93.29 560.56,-94.52\"/>\n",
       "<polygon fill=\"black\" stroke=\"black\" points=\"559.91,-97.96 570.34,-96.1 561.03,-91.05 559.91,-97.96\"/>\n",
       "</g>\n",
       "<!-- 1656571579280* -->\n",
       "<g id=\"node13\" class=\"node\">\n",
       "<title>1656571579280*</title>\n",
       "<ellipse fill=\"none\" stroke=\"black\" cx=\"261\" cy=\"-73.5\" rx=\"27\" ry=\"18\"/>\n",
       "<text text-anchor=\"middle\" x=\"261\" y=\"-68.45\" font-family=\"Times New Roman,serif\" font-size=\"14.00\">*</text>\n",
       "</g>\n",
       "<!-- 1656571579280*&#45;&gt;1656571579280 -->\n",
       "<g id=\"edge5\" class=\"edge\">\n",
       "<title>1656571579280*&#45;&gt;1656571579280</title>\n",
       "<path fill=\"none\" stroke=\"black\" d=\"M288.42,-73.5C295.52,-73.5 303.68,-73.5 312.42,-73.5\"/>\n",
       "<polygon fill=\"black\" stroke=\"black\" points=\"312.24,-77 322.24,-73.5 312.24,-70 312.24,-77\"/>\n",
       "</g>\n",
       "<!-- 1656518918560 -->\n",
       "<g id=\"node14\" class=\"node\">\n",
       "<title>1656518918560</title>\n",
       "<polygon fill=\"none\" stroke=\"black\" points=\"1.5,-55.5 1.5,-91.5 196.5,-91.5 196.5,-55.5 1.5,-55.5\"/>\n",
       "<text text-anchor=\"middle\" x=\"16.25\" y=\"-68.7\" font-family=\"Times New Roman,serif\" font-size=\"14.00\">x1</text>\n",
       "<polyline fill=\"none\" stroke=\"black\" points=\"31,-56 31,-91.5\"/>\n",
       "<text text-anchor=\"middle\" x=\"70.88\" y=\"-68.7\" font-family=\"Times New Roman,serif\" font-size=\"14.00\">data 2.0000</text>\n",
       "<polyline fill=\"none\" stroke=\"black\" points=\"110.75,-56 110.75,-91.5\"/>\n",
       "<text text-anchor=\"middle\" x=\"153.62\" y=\"-68.7\" font-family=\"Times New Roman,serif\" font-size=\"14.00\">grad &#45;1.5000</text>\n",
       "</g>\n",
       "<!-- 1656518918560&#45;&gt;1656571579280* -->\n",
       "<g id=\"edge14\" class=\"edge\">\n",
       "<title>1656518918560&#45;&gt;1656571579280*</title>\n",
       "<path fill=\"none\" stroke=\"black\" d=\"M196.76,-73.5C205.77,-73.5 214.47,-73.5 222.4,-73.5\"/>\n",
       "<polygon fill=\"black\" stroke=\"black\" points=\"222.25,-77 232.25,-73.5 222.25,-70 222.25,-77\"/>\n",
       "</g>\n",
       "<!-- 1656519244240 -->\n",
       "<g id=\"node15\" class=\"node\">\n",
       "<title>1656519244240</title>\n",
       "<polygon fill=\"none\" stroke=\"black\" points=\"0,-0.5 0,-36.5 198,-36.5 198,-0.5 0,-0.5\"/>\n",
       "<text text-anchor=\"middle\" x=\"16.25\" y=\"-13.7\" font-family=\"Times New Roman,serif\" font-size=\"14.00\">w1</text>\n",
       "<polyline fill=\"none\" stroke=\"black\" points=\"32.5,-1 32.5,-36.5\"/>\n",
       "<text text-anchor=\"middle\" x=\"74.62\" y=\"-13.7\" font-family=\"Times New Roman,serif\" font-size=\"14.00\">data &#45;3.0000</text>\n",
       "<polyline fill=\"none\" stroke=\"black\" points=\"116.75,-1 116.75,-36.5\"/>\n",
       "<text text-anchor=\"middle\" x=\"157.38\" y=\"-13.7\" font-family=\"Times New Roman,serif\" font-size=\"14.00\">grad 1.0000</text>\n",
       "</g>\n",
       "<!-- 1656519244240&#45;&gt;1656571579280* -->\n",
       "<g id=\"edge8\" class=\"edge\">\n",
       "<title>1656519244240&#45;&gt;1656571579280*</title>\n",
       "<path fill=\"none\" stroke=\"black\" d=\"M172.12,-36.99C180.9,-39.65 189.7,-42.5 198,-45.5 208.09,-49.14 218.82,-53.73 228.47,-58.12\"/>\n",
       "<polygon fill=\"black\" stroke=\"black\" points=\"226.9,-61.25 237.45,-62.31 229.86,-54.91 226.9,-61.25\"/>\n",
       "</g>\n",
       "</g>\n",
       "</svg>\n"
      ],
      "text/plain": [
       "<graphviz.graphs.Digraph at 0x181b03b0590>"
      ]
     },
     "execution_count": 184,
     "metadata": {},
     "output_type": "execute_result"
    }
   ],
   "source": [
    "draw_dot(o)"
   ]
  },
  {
   "cell_type": "code",
   "execution_count": 179,
   "metadata": {},
   "outputs": [],
   "source": [
    "o.grad = 1.0\n",
    "\n",
    "o._backward()\n",
    "\n"
   ]
  },
  {
   "cell_type": "code",
   "execution_count": 180,
   "metadata": {},
   "outputs": [],
   "source": [
    "n._backward()"
   ]
  },
  {
   "cell_type": "code",
   "execution_count": 181,
   "metadata": {},
   "outputs": [],
   "source": [
    "\n",
    "b._backward()"
   ]
  },
  {
   "cell_type": "code",
   "execution_count": 182,
   "metadata": {},
   "outputs": [],
   "source": [
    "x1w1x2w2._backward()"
   ]
  },
  {
   "cell_type": "code",
   "execution_count": 183,
   "metadata": {},
   "outputs": [],
   "source": [
    "x1w1._backward()\n",
    "x2w2._backward()\n",
    "\n"
   ]
  },
  {
   "cell_type": "markdown",
   "metadata": {},
   "source": [
    "$\\frac{\\partial \\mathsf{tanh}}{\\partial x} = 1- \\mathsf{tanh}(x)^2$ "
   ]
  },
  {
   "cell_type": "markdown",
   "metadata": {},
   "source": [
    "We are now done with manually backpropagating and automate."
   ]
  },
  {
   "cell_type": "code",
   "execution_count": null,
   "metadata": {},
   "outputs": [],
   "source": []
  },
  {
   "cell_type": "code",
   "execution_count": null,
   "metadata": {},
   "outputs": [],
   "source": []
  },
  {
   "cell_type": "code",
   "execution_count": 369,
   "metadata": {},
   "outputs": [],
   "source": [
    "class Value:\n",
    "    \n",
    "    def __init__(self, data, _children = (), _op = '', label = ''):\n",
    "        self.data = data\n",
    "        self.grad = 0.0\n",
    "        self._backward = lambda: None\n",
    "        self._prev = set(_children)\n",
    "        self._op = _op\n",
    "        self.label = label\n",
    "\n",
    "    def __repr__(self):\n",
    "        \n",
    "        return f\"Value(data={self.data})\"\n",
    "    \n",
    "    def __add__(self,other):\n",
    "        \n",
    "        out = Value(self.data + other.data, (self, other), '+')\n",
    "\n",
    "        def _backward():\n",
    "            self.grad += 1.0 * out.grad\n",
    "            other.grad += 1.0 * out.grad\n",
    "        out._backward = _backward\n",
    "        \n",
    "        return out\n",
    "    \n",
    "    def __mul__(self, other):\n",
    "        \n",
    "        out = Value(self.data * other.data, (self, other), '*')\n",
    "    \n",
    "        def _backward():\n",
    "            self.grad += other.data * out.grad\n",
    "            other.grad += self.data * out.grad\n",
    "\n",
    "        out._backward = _backward\n",
    "\n",
    "        return out\n",
    "    \n",
    "\n",
    "    \n",
    "    def tanh(self):\n",
    "        n = self.data\n",
    "        t = (math.exp(2*n) - 1)/(math.exp(2*n) + 1)\n",
    "        out = Value(t, (self, ), 'tanh')\n",
    "\n",
    "        def _backward():\n",
    "            self.grad = (1 - t**2) * out.grad \n",
    "        \n",
    "        out._backward = _backward\n",
    "\n",
    "        return out\n",
    "    \n",
    "\n",
    "    def backward(self):\n",
    "\n",
    "        topo = []\n",
    "        visited = set()\n",
    "        def build_topo(v):\n",
    "            if v not in visited:\n",
    "                visited.append(v)\n",
    "                for child in v._prev:\n",
    "                    build_topo(v)\n",
    "                topo.append(v)\n",
    "        topo = build_topo(self)\n",
    "\n",
    "        self.grad = Value(1.0)\n",
    "        \n",
    "        for node in reversed(topo):\n",
    "            node._backward() \n",
    "\n",
    "\n",
    "class Neuron:\n",
    "\n",
    "    def __init__(self, nin):\n",
    "        self.w = [Value(random.uniform(-1,1)) for _ in range(nin)]\n",
    "        self.b = Value(random.uniform(-1,1))\n",
    "\n",
    "\n",
    "    def __call__(self, x):\n",
    "        out = sum([wi * xi for wi, xi in zip(self.w, x)])\n",
    "        act = out.tanh()\n",
    "        return act\n",
    "    \n",
    "class Layer:\n",
    "    \n",
    "    def __init__(self, nin, nout):\n",
    "        self.neurons = [Neuron(nin) for _ in range(nout)]\n",
    "    \n",
    "    def __call__(self, x):\n",
    "        acts = [n(x) for n in self.neurons]\n",
    "        return acts[0] if acts == 1 else acts\n",
    "\n",
    "class MLP:\n",
    "\n",
    "    def __init__(self, nin, nouts):\n",
    "        sz = [nin] + nouts\n",
    "        self.layers = [Layer(sz[i], sz[i+1]) for i in range(len(nouts))]\n",
    "\n",
    "    def __call__(self, x):\n",
    "        for layer in self.layers:\n",
    "            x = layer(x)\n",
    "        return x\n",
    "    \n",
    "\n",
    "\n"
   ]
  },
  {
   "cell_type": "code",
   "execution_count": 370,
   "metadata": {},
   "outputs": [
    {
     "ename": "TypeError",
     "evalue": "unsupported operand type(s) for +: 'int' and 'Value'",
     "output_type": "error",
     "traceback": [
      "\u001b[1;31m---------------------------------------------------------------------------\u001b[0m",
      "\u001b[1;31mTypeError\u001b[0m                                 Traceback (most recent call last)",
      "Cell \u001b[1;32mIn[370], line 4\u001b[0m\n\u001b[0;32m      1\u001b[0m x \u001b[38;5;241m=\u001b[39m [Value(\u001b[38;5;241m2.0\u001b[39m), Value(\u001b[38;5;241m3.0\u001b[39m), Value(\u001b[38;5;241m-\u001b[39m\u001b[38;5;241m1.0\u001b[39m)]\n\u001b[0;32m      2\u001b[0m n \u001b[38;5;241m=\u001b[39m MLP(\u001b[38;5;241m3\u001b[39m, [\u001b[38;5;241m4\u001b[39m,\u001b[38;5;241m4\u001b[39m,\u001b[38;5;241m1\u001b[39m])\n\u001b[1;32m----> 4\u001b[0m n(x)\n",
      "Cell \u001b[1;32mIn[369], line 100\u001b[0m, in \u001b[0;36mMLP.__call__\u001b[1;34m(self, x)\u001b[0m\n\u001b[0;32m     98\u001b[0m \u001b[38;5;28;01mdef\u001b[39;00m \u001b[38;5;21m__call__\u001b[39m(\u001b[38;5;28mself\u001b[39m, x):\n\u001b[0;32m     99\u001b[0m     \u001b[38;5;28;01mfor\u001b[39;00m layer \u001b[38;5;129;01min\u001b[39;00m \u001b[38;5;28mself\u001b[39m\u001b[38;5;241m.\u001b[39mlayers:\n\u001b[1;32m--> 100\u001b[0m         x \u001b[38;5;241m=\u001b[39m layer(x)\n\u001b[0;32m    101\u001b[0m     \u001b[38;5;28;01mreturn\u001b[39;00m x\n",
      "Cell \u001b[1;32mIn[369], line 89\u001b[0m, in \u001b[0;36mLayer.__call__\u001b[1;34m(self, x)\u001b[0m\n\u001b[0;32m     88\u001b[0m \u001b[38;5;28;01mdef\u001b[39;00m \u001b[38;5;21m__call__\u001b[39m(\u001b[38;5;28mself\u001b[39m, x):\n\u001b[1;32m---> 89\u001b[0m     acts \u001b[38;5;241m=\u001b[39m [n(x) \u001b[38;5;28;01mfor\u001b[39;00m n \u001b[38;5;129;01min\u001b[39;00m \u001b[38;5;28mself\u001b[39m\u001b[38;5;241m.\u001b[39mneurons]\n\u001b[0;32m     90\u001b[0m     \u001b[38;5;28;01mreturn\u001b[39;00m acts[\u001b[38;5;241m0\u001b[39m] \u001b[38;5;28;01mif\u001b[39;00m acts \u001b[38;5;241m==\u001b[39m \u001b[38;5;241m1\u001b[39m \u001b[38;5;28;01melse\u001b[39;00m acts\n",
      "Cell \u001b[1;32mIn[369], line 79\u001b[0m, in \u001b[0;36mNeuron.__call__\u001b[1;34m(self, x)\u001b[0m\n\u001b[0;32m     78\u001b[0m \u001b[38;5;28;01mdef\u001b[39;00m \u001b[38;5;21m__call__\u001b[39m(\u001b[38;5;28mself\u001b[39m, x):\n\u001b[1;32m---> 79\u001b[0m     out \u001b[38;5;241m=\u001b[39m \u001b[38;5;28msum\u001b[39m([wi \u001b[38;5;241m*\u001b[39m xi \u001b[38;5;28;01mfor\u001b[39;00m wi, xi \u001b[38;5;129;01min\u001b[39;00m \u001b[38;5;28mzip\u001b[39m(\u001b[38;5;28mself\u001b[39m\u001b[38;5;241m.\u001b[39mw, x)])\n\u001b[0;32m     80\u001b[0m     act \u001b[38;5;241m=\u001b[39m out\u001b[38;5;241m.\u001b[39mtanh()\n\u001b[0;32m     81\u001b[0m     \u001b[38;5;28;01mreturn\u001b[39;00m act\n",
      "\u001b[1;31mTypeError\u001b[0m: unsupported operand type(s) for +: 'int' and 'Value'"
     ]
    }
   ],
   "source": [
    "x = [Value(2.0), Value(3.0), Value(-1.0)]\n",
    "n = MLP(3, [4,4,1])\n",
    "\n",
    "n(x)"
   ]
  },
  {
   "cell_type": "markdown",
   "metadata": {},
   "source": [
    "# Experimenting with Classes"
   ]
  },
  {
   "cell_type": "code",
   "execution_count": 50,
   "metadata": {},
   "outputs": [],
   "source": [
    "class MyClass:\n",
    "    \"\"\"this is an instance of a class\"\"\"\n",
    "    i = 12345\n",
    "\n",
    "\n",
    "\n",
    "\n",
    "    def f(something):\n",
    "        return \"Hello, world!\"\n",
    "    \n",
    "\n",
    "\n",
    "class Complex:\n",
    "\n",
    "\n",
    "    def __init__(self, realpart, imagpart):\n",
    "        self.r = realpart\n",
    "        self.i = imagpart\n",
    "\n",
    "    def __repr__(self):\n",
    "        return f\"Complex({self.r} + i*{self.i})\"\n",
    "\n",
    "    def mult(self,other):\n",
    "        real = self.r * other.r - self.i * other.i\n",
    "        imag = self.r * other.i + self.i * other.r\n",
    "\n",
    "        out = Complex(real,imag)\n",
    "\n",
    "        return out\n"
   ]
  },
  {
   "cell_type": "code",
   "execution_count": 54,
   "metadata": {},
   "outputs": [
    {
     "data": {
      "text/plain": [
       "Complex(56.65 + i*-43.849999999999994)"
      ]
     },
     "execution_count": 54,
     "metadata": {},
     "output_type": "execute_result"
    }
   ],
   "source": [
    "x = Complex(12.2,-1.45)\n",
    "y = Complex(5,-3)\n",
    "\n",
    "z = x.mult(y)\n",
    "\n",
    "z"
   ]
  },
  {
   "cell_type": "markdown",
   "metadata": {},
   "source": [
    "### Exercise 1:\n",
    "\n",
    "Create a class ```Dog``` with two attributes:\n",
    "- ```name``` (a string)\n",
    "- ```age``` (an integer)\n",
    "\n",
    "Also add a method ```bark()``` that prints \"```Woof!```\""
   ]
  },
  {
   "cell_type": "code",
   "execution_count": null,
   "metadata": {},
   "outputs": [],
   "source": [
    "class Dog:\n",
    "\n",
    "    def __init__(self, name, age):\n",
    "        self.name = name\n",
    "        self.age = age\n",
    "\n",
    "    def bark(self):\n",
    "        print('Woof!')"
   ]
  },
  {
   "cell_type": "markdown",
   "metadata": {},
   "source": [
    "### Adding Methods\n",
    "\n",
    "Modify your ```Dog``` class to add a method ```dog_info()``` that prints the dog's name and age."
   ]
  },
  {
   "cell_type": "code",
   "execution_count": 60,
   "metadata": {},
   "outputs": [],
   "source": [
    "class Dog:\n",
    "\n",
    "    def __init__(self, name, age):\n",
    "        self.name = name\n",
    "        self.age = age\n",
    "\n",
    "    def bark(self):\n",
    "        print('Woof')\n",
    "    \n",
    "    def dog_info(self):\n",
    "        print(f\"{self.name} is {self.age} years old.\")"
   ]
  },
  {
   "cell_type": "markdown",
   "metadata": {},
   "source": [
    "###Exercise 3: Creating a Bank Account\n",
    "\n"
   ]
  },
  {
   "cell_type": "code",
   "execution_count": 71,
   "metadata": {},
   "outputs": [],
   "source": [
    "class BankAccount:\n",
    "\n",
    "    def __init__(self, balance = 0):\n",
    "        self.balance = balance\n",
    "    \n",
    "    def deposit(self, amount):\n",
    "        self.balance += amount\n",
    "\n",
    "    def withdraw(self, amount):\n",
    "        if self.balance >= amount:\n",
    "            self.balance -= amount\n",
    "        else:\n",
    "            print(\"Nope.\")"
   ]
  },
  {
   "cell_type": "markdown",
   "metadata": {},
   "source": [
    "### Book Class\n",
    "\n",
    "Create a class ```Book``` with attributes:\n",
    "\n",
    "- ```title```(string)\n",
    "- ```author```(string)\n",
    "- ```pages```(integer)\n",
    "- ```current_page```(intially 0)\n",
    "\n",
    "Add methods:\n",
    "- ```turn_page()```, increases ```current_page``` by 1 doesn´t exceed ```pages```.\n",
    "- ````book_info()``` prints title, author, and current page."
   ]
  },
  {
   "cell_type": "code",
   "execution_count": 83,
   "metadata": {},
   "outputs": [],
   "source": [
    "class Book:\n",
    "    def __init__(self, title, author, pages, current_page = 0):\n",
    "        self.title = title\n",
    "        self.author = author\n",
    "        self.pages = pages\n",
    "        self.current_page = current_page\n",
    "\n",
    "\n",
    "    def turn_page(self):\n",
    "        if self.current_page < self.pages:\n",
    "            self.current_page += 1\n",
    "\n",
    "    def book_info(self):\n",
    "        print(f\"{self.title} by {self.author}, page {self.current_page} of {self.pages}\")    "
   ]
  },
  {
   "cell_type": "code",
   "execution_count": 85,
   "metadata": {},
   "outputs": [
    {
     "name": "stdout",
     "output_type": "stream",
     "text": [
      "Crossroads by Jonathan Franzen, page 38 of 530\n",
      "Crossroads by Jonathan Franzen, page 39 of 530\n"
     ]
    }
   ],
   "source": [
    "Crossroads = Book(\"Crossroads\", \"Jonathan Franzen\", 530, 38)\n",
    "\n",
    "Crossroads.book_info()\n",
    "Crossroads.turn_page()\n",
    "Crossroads.book_info()"
   ]
  },
  {
   "cell_type": "markdown",
   "metadata": {},
   "source": [
    "### Exercise 5\n",
    "\n",
    "Define two classes: ``Animal`` and ```Cat```. \n",
    "\n",
    "```Animal``` shoould have an attriubute "
   ]
  },
  {
   "cell_type": "code",
   "execution_count": 91,
   "metadata": {},
   "outputs": [],
   "source": [
    "class Animal:\n",
    "    \"\"\"A class of animals which does some stuff that's useful\"\"\"\n",
    "    def __init__(self, species):\n",
    "        self.species = species\n",
    "\n",
    "    def make_sound(self):\n",
    "        print(\"Some generic animal sound.\")\n",
    "\n",
    "class Cat(Animal):\n",
    "\n",
    "    def __init__(self):\n",
    "        super().__init__(\"Cat\")\n",
    "    \n",
    "    def make_sound(self):\n",
    "        print(\"Meow!\") \n"
   ]
  },
  {
   "cell_type": "markdown",
   "metadata": {},
   "source": [
    "### Exercise 6\n",
    "\n",
    "Create a class ```Rectangle``` with two attributes: \n",
    "\n"
   ]
  },
  {
   "cell_type": "code",
   "execution_count": null,
   "metadata": {},
   "outputs": [],
   "source": []
  },
  {
   "cell_type": "code",
   "execution_count": 99,
   "metadata": {},
   "outputs": [],
   "source": [
    "4"
   ]
  },
  {
   "cell_type": "code",
   "execution_count": 100,
   "metadata": {},
   "outputs": [
    {
     "data": {
      "text/plain": [
       "Rectangle(width=5, height=10)"
      ]
     },
     "execution_count": 100,
     "metadata": {},
     "output_type": "execute_result"
    }
   ],
   "source": [
    "r1 = Rectangle(3, 4)\n",
    "r2 = Rectangle(2, 6)\n",
    "\n",
    "\n",
    "r3 = r1 + r2\n",
    "r3"
   ]
  },
  {
   "cell_type": "markdown",
   "metadata": {},
   "source": [
    "# Exercise 7: Class and Instance Variables\n",
    "\n",
    "Create a class ``Person`` with a class variable ``species`` set to ``\"Homo Sapiens\"`` and instance variables ``name`` and ``age``.\n",
    "\n",
    "Create a method ``introduce()`` that prints a short introduction."
   ]
  },
  {
   "cell_type": "code",
   "execution_count": 193,
   "metadata": {},
   "outputs": [],
   "source": [
    "class Person:\n",
    "\n",
    "    species = \"Homo sapiens\" \n",
    "    \n",
    "    def __init__(self, name, age):\n",
    "        self.age = age\n",
    "        self.name = name\n",
    "\n",
    "    def introduce(self):\n",
    "        return f\"Hello, I'm {self.name}, I'm {self.age} and I'm a {self.species\n",
    "                                                                   }\" \n"
   ]
  },
  {
   "cell_type": "code",
   "execution_count": 194,
   "metadata": {},
   "outputs": [
    {
     "data": {
      "text/plain": [
       "\"Hello, I'm Alice, I'm 28 and I'm a Homo sapiens\""
      ]
     },
     "execution_count": 194,
     "metadata": {},
     "output_type": "execute_result"
    }
   ],
   "source": [
    "alice = Person(\"Alice\", 28)\n",
    "alice.introduce()"
   ]
  },
  {
   "cell_type": "markdown",
   "metadata": {},
   "source": [
    "This exercise draws a distinction between variables which are associated to every member of the class, irrespective of their instantiation method; and instance variables, which possibly change with every instantiation of the class."
   ]
  },
  {
   "cell_type": "markdown",
   "metadata": {},
   "source": [
    "# Composition of classes"
   ]
  },
  {
   "cell_type": "markdown",
   "metadata": {},
   "source": [
    "Construct the following "
   ]
  },
  {
   "cell_type": "code",
   "execution_count": 230,
   "metadata": {},
   "outputs": [],
   "source": [
    "class Engine:\n",
    "    def start(self):\n",
    "        print(\"Engine started!\")\n",
    "\n",
    "class Car:\n",
    "    def __init__(self, engine):\n",
    "        self.engine = engine \n",
    "    def start_car(self):\n",
    "        self.engine.start()\n",
    "\n",
    "\n"
   ]
  },
  {
   "cell_type": "markdown",
   "metadata": {},
   "source": [
    "This is interesting... Potentially very useful. \n",
    "\n",
    "It feels like you are chaining classes. Let's say you have some class A and some class B: what we are doing is defining methods for objects of class B which depend on methods of class A.\n",
    "\n",
    "This is not inheritance, as we discussed above, because not every object of class B is implicitly of class A."
   ]
  },
  {
   "cell_type": "code",
   "execution_count": 231,
   "metadata": {},
   "outputs": [
    {
     "name": "stdout",
     "output_type": "stream",
     "text": [
      "Engine started!\n"
     ]
    }
   ],
   "source": [
    "engine = Engine()\n",
    "car = Car(engine)\n",
    "car.start_car()"
   ]
  },
  {
   "cell_type": "markdown",
   "metadata": {},
   "source": []
  },
  {
   "cell_type": "code",
   "execution_count": 277,
   "metadata": {},
   "outputs": [],
   "source": [
    "class Item:\n",
    "\n",
    "    def __init__(self, name, price):\n",
    "\n",
    "        self.name = name  \n",
    "        self.price = price\n",
    "\n",
    "class Inventory:\n",
    "\n",
    "    def __init__(self, items = []):\n",
    "\n",
    "        self.items = []\n",
    "\n",
    "\n",
    "    def add_item(self, item):\n",
    "        self.items.append(item)\n",
    "\n",
    "    def remove_item(self,item):\n",
    "        self.items.remove(item)\n",
    "        \n",
    "    def list_items(self):\n",
    "        for item in self.items:\n",
    "            print(f\"-{item.name} (${item.price})\\t\")"
   ]
  },
  {
   "cell_type": "markdown",
   "metadata": {},
   "source": [
    "This exercise taugth me that: mutable default arguments ``(items = [])`` will persist over instances, which is, more often than not, a bug not a feature.\n",
    "\n",
    "Taking that into consideration, here's a better version of the above code:"
   ]
  },
  {
   "cell_type": "code",
   "execution_count": null,
   "metadata": {},
   "outputs": [],
   "source": [
    "class Item:\n",
    "\n",
    "    def __init__(self, name, price):\n",
    "\n",
    "        self.name = name  \n",
    "        self.price = price\n",
    "\n",
    "class Inventory:\n",
    "\n",
    "    def __init__(self):\n",
    "\n",
    "        self.items = []\n",
    "\n",
    "\n",
    "    def add_item(self, item):\n",
    "        self.items.append(item)\n",
    "\n",
    "    def remove_item(self,item):\n",
    "        self.items.remove(item)\n",
    "\n",
    "    # we can a method here which removes an item \n",
    "    # by name, which is much more user-friendly\n",
    "        \n",
    "    def list_items(self):\n",
    "        for item in self.items:\n",
    "            print(f\"-{item.name} (${item.price})\\t\")"
   ]
  },
  {
   "cell_type": "code",
   "execution_count": 278,
   "metadata": {},
   "outputs": [],
   "source": [
    "item1 = Item(\"Sword\", 100)\n",
    "item2 = Item(\"Shield\", 150)\n"
   ]
  },
  {
   "cell_type": "code",
   "execution_count": 285,
   "metadata": {},
   "outputs": [],
   "source": [
    "new_inventory = Inventory([])\n",
    "new_inventory.list_items()\n",
    "new_inventory.add_item(item1)\n",
    "new_inventory.add_item(item2)\n",
    "new_inventory.remove_item(item2)\n",
    "new_inventory.remove_item(item1)\n",
    "\n",
    "new_inventory.list_items()\n",
    "\n"
   ]
  },
  {
   "cell_type": "code",
   "execution_count": null,
   "metadata": {},
   "outputs": [],
   "source": []
  },
  {
   "cell_type": "markdown",
   "metadata": {},
   "source": [
    "# Increased difficulty\n",
    "\n",
    "\n",
    "Extend the previous BankAccount class:\n",
    "- Add an attribute ``account_holder``.\n",
    "- Implement transaction history as a list of tuples: ``(\"deposit\"/\"withdraw\", amount)``.\n",
    "- Add a method ``get_statement()`` that neatly prints the transaction history.\n"
   ]
  },
  {
   "cell_type": "code",
   "execution_count": 325,
   "metadata": {},
   "outputs": [],
   "source": [
    "class BankAccount:\n",
    "\n",
    "    def __init__(self, account_holder, balance = 0):\n",
    "        self.balance = balance\n",
    "        self.account_holder = account_holder\n",
    "        self.tran_hist = []\n",
    "\n",
    "\n",
    "        \n",
    "\n",
    "    def deposit(self, amount):\n",
    "        self.balance += amount\n",
    "        self.tran_hist.append((\"deposit\", amount))\n",
    "\n",
    "    def withdraw(self, amount):\n",
    "        if self.balance >= amount:\n",
    "            self.balance -= amount\n",
    "            self.tran_hist.append((\"withdraw\", amount))\n",
    "        else:\n",
    "            print(\"Nope.\")\n",
    "\n",
    "    def get_statement(self):\n",
    "        print(f\"Account holder: {self.account_holder}\\t\") \n",
    "        print(f\"Here's your statement:\\t\")\n",
    "        for trans, amount in self.tran_hist:\n",
    "            print(f\"-{trans}: ${amount:.2f}\\t\")\n",
    "        print( f\"Current balance: ${self.balance:.2f}\")"
   ]
  },
  {
   "cell_type": "code",
   "execution_count": 326,
   "metadata": {},
   "outputs": [
    {
     "name": "stdout",
     "output_type": "stream",
     "text": [
      "Nope.\n",
      "Nope.\n",
      "Nope.\n",
      "Nope.\n",
      "Nope.\n",
      "Nope.\n",
      "Nope.\n",
      "Account holder: Alice\t\n",
      "Here's your statement:\t\n",
      "-deposit: $200.00\t\n",
      "-withdraw: $50.00\t\n",
      "-withdraw: $146.33\t\n",
      "-deposit: $100.31\t\n",
      "-deposit: $31.98\t\n",
      "Current balance: $135.96\n"
     ]
    }
   ],
   "source": [
    "import random\n",
    "\n",
    "acc = BankAccount(\"Alice\")\n",
    "acc.deposit(200)\n",
    "acc.withdraw(50)\n",
    "for _ in range(10):\n",
    "    coin = random.randint(0,1)\n",
    "    amount = random.uniform(0,250)\n",
    "    if coin == 0:\n",
    "        acc.deposit(amount)\n",
    "    else: \n",
    "        acc.withdraw(amount)\n",
    "acc.get_statement()"
   ]
  },
  {
   "cell_type": "markdown",
   "metadata": {},
   "source": [
    "# Exercise 12: Deck of Cards\n",
    "\n",
    "Create two classes: Card and Deck.\n",
    "\n",
    "- Card should have attributes suit and rank (e.g., \"Hearts\", \"Ace\").\n",
    "\n",
    "- Deck should contain a full set of 52 playing cards.\n",
    "\n",
    "- Implement methods:\n",
    "\n",
    "    - shuffle() randomly shuffles the deck.\n",
    "\n",
    "    - draw_card() removes and returns a card from the deck.\n",
    "\n",
    "    - cards_left() returns how many cards are remaining."
   ]
  },
  {
   "cell_type": "code",
   "execution_count": 107,
   "metadata": {},
   "outputs": [],
   "source": [
    "import itertools\n",
    "import random\n",
    "\n",
    "\n",
    "class Card:\n",
    "\n",
    "    def __init__(self, suit, rank):\n",
    "            \n",
    "        suits = [\"Hearts\", \"Spades\", \"Clubs\", \"Diamonds\"]\n",
    "        ranks = (\"Ace\",2,3,4,5,6,7,8,9,10,\"Joker\", \"Queen\", \"King\")\n",
    "\n",
    "        self.suit = suit\n",
    "        if self.suit not in suits:\n",
    "            return f\"{self.suit} is an invalid suit.\"\n",
    "        else: self.rank = rank\n",
    "        if self.rank not in list(ranks):\n",
    "            return f\"{self.rank} is an invalid rank.\"\n",
    "        else: self.suit = suit\n",
    "        \n",
    "    def __repr__(self):\n",
    "            return f\"Card({self.suit},{self.rank})\"\n",
    "    \n",
    "\n",
    "\n",
    "\n",
    "class Deck:\n",
    "    \n",
    "\n",
    "    def __init__(self):\n",
    "        suits = [\"Hearts\", \"Spades\", \"Clubs\", \"Diamonds\"]\n",
    "        ranks = (\"Ace\",2,3,4,5,6,7,8,9,10,\"Joker\", \"Queen\", \"King\")\n",
    "\n",
    "        self.unordered_deck = [Card(suit, rank) for suit, rank in list(itertools.product(suits, ranks))]\n",
    "     \n",
    "     # You have to order the deck the first time\n",
    "     # otherwise, one could assume that the \n",
    "     # the standard deck ordering applies (if it was not \n",
    "     # for the fact that there is no standard ordering)  \n",
    "    def order(self):\n",
    "         self.ord_deck = random.sample(self.unordered_deck, k = len(self.unordered_deck))\n",
    "\n",
    "\n",
    "    def shuffle(self):\n",
    "        self.ord_deck = random.sample(self.ord_deck, k = len(self.ord_deck))\n",
    "        return self.ord_deck \n",
    "\n",
    "    def draw_card(self):\n",
    "        pick = random.choice(self.ord_deck)\n",
    "        self.ord_deck.remove(pick)\n",
    "        return pick\n",
    "\n",
    "    def cards_left(self):\n",
    "        if len(self.ord_deck) == 0:\n",
    "            print(\"No more cards to draw.\")\n",
    "        else: return len(self.ord_deck)\n"
   ]
  },
  {
   "cell_type": "code",
   "execution_count": 108,
   "metadata": {},
   "outputs": [
    {
     "data": {
      "text/plain": [
       "[Card(Diamonds,4),\n",
       " Card(Clubs,8),\n",
       " Card(Spades,5),\n",
       " Card(Diamonds,2),\n",
       " Card(Diamonds,5),\n",
       " Card(Hearts,10),\n",
       " Card(Hearts,8),\n",
       " Card(Spades,6),\n",
       " Card(Clubs,9),\n",
       " Card(Clubs,4),\n",
       " Card(Hearts,Joker),\n",
       " Card(Hearts,King),\n",
       " Card(Clubs,3),\n",
       " Card(Hearts,2),\n",
       " Card(Hearts,5),\n",
       " Card(Clubs,Joker),\n",
       " Card(Clubs,5),\n",
       " Card(Spades,2),\n",
       " Card(Spades,King),\n",
       " Card(Diamonds,8),\n",
       " Card(Spades,Queen),\n",
       " Card(Clubs,7),\n",
       " Card(Diamonds,Queen),\n",
       " Card(Diamonds,3),\n",
       " Card(Spades,9),\n",
       " Card(Clubs,2),\n",
       " Card(Diamonds,King),\n",
       " Card(Clubs,Queen),\n",
       " Card(Diamonds,Joker),\n",
       " Card(Spades,10),\n",
       " Card(Spades,3),\n",
       " Card(Clubs,King),\n",
       " Card(Clubs,6),\n",
       " Card(Clubs,Ace),\n",
       " Card(Hearts,9),\n",
       " Card(Hearts,4),\n",
       " Card(Diamonds,10),\n",
       " Card(Spades,Ace),\n",
       " Card(Hearts,Queen),\n",
       " Card(Diamonds,7),\n",
       " Card(Diamonds,6),\n",
       " Card(Diamonds,9),\n",
       " Card(Spades,Joker),\n",
       " Card(Clubs,10),\n",
       " Card(Hearts,6),\n",
       " Card(Hearts,7),\n",
       " Card(Spades,8),\n",
       " Card(Hearts,Ace),\n",
       " Card(Diamonds,Ace),\n",
       " Card(Hearts,3),\n",
       " Card(Spades,7),\n",
       " Card(Spades,4)]"
      ]
     },
     "execution_count": 108,
     "metadata": {},
     "output_type": "execute_result"
    }
   ],
   "source": [
    "\n",
    "deck = Deck()\n",
    "\n",
    "\n",
    "deck.unordered_deck\n",
    "deck.order()\n",
    "deck.ord_deck\n"
   ]
  },
  {
   "cell_type": "code",
   "execution_count": 110,
   "metadata": {},
   "outputs": [],
   "source": [
    "new_deck = Deck()\n",
    "new_deck.order()\n",
    "\n",
    "for _ in range(51):\n",
    "    new_deck.draw_card()"
   ]
  },
  {
   "cell_type": "code",
   "execution_count": 111,
   "metadata": {},
   "outputs": [
    {
     "data": {
      "text/plain": [
       "Card(Spades,4)"
      ]
     },
     "execution_count": 111,
     "metadata": {},
     "output_type": "execute_result"
    }
   ],
   "source": [
    "new_deck.draw_card()"
   ]
  },
  {
   "cell_type": "code",
   "execution_count": 113,
   "metadata": {},
   "outputs": [
    {
     "data": {
      "text/plain": [
       "3"
      ]
     },
     "execution_count": 113,
     "metadata": {},
     "output_type": "execute_result"
    }
   ],
   "source": [
    "random.randint(1,30)"
   ]
  },
  {
   "cell_type": "markdown",
   "metadata": {},
   "source": [
    "# Exercise 13: A Library System \n"
   ]
  },
  {
   "cell_type": "code",
   "execution_count": null,
   "metadata": {},
   "outputs": [],
   "source": [
    "class Book:\n",
    "\n",
    "    def __init__(self, title, author, ISBN, available):\n",
    "        self.title = title\n",
    "        self.author = author \n",
    "        self.ISBN = ISBN\n",
    "        self.available = available\n",
    "\n",
    "class Member:\n",
    "\n",
    "    def __init__(self, name, member_ID, books_borrowed):\n",
    "        self.name = name\n",
    "        self.member_ID = memb "
   ]
  },
  {
   "cell_type": "markdown",
   "metadata": {},
   "source": [
    "# Exercise 14: Polymorphism and Inheritance\n",
    "\n",
    "*Inhheritance:* It is all about building on top of another class.\n",
    "\n",
    "The base class, in this case ``Shape`` controls the Rectangle, Triangle, and Circle classes. They all share the fact thaey have area and perimeter. \n",
    "\n",
    "*Polymorphism:* Same interface, different behaviour.\n",
    "\n",
    "For polymorphism to be deployed in Python, the code ``Pass`` is the right placeholder to include in unspecified methods, like the one in the example below.\n",
    "\n"
   ]
  },
  {
   "cell_type": "code",
   "execution_count": 117,
   "metadata": {},
   "outputs": [],
   "source": [
    "import math\n",
    "\n",
    "class Shape:\n",
    "    \n",
    "    def area(self):\n",
    "        pass \n",
    "    \n",
    "    def perimeter(self):\n",
    "        pass\n",
    "    \n",
    "\n",
    "class Circle(Shape):\n",
    "\n",
    "    def __init__(self, radius):\n",
    "        self.radius = radius\n",
    "\n",
    "    def area(self):\n",
    "        self.area = (self.radius ** 2) * math.pi\n",
    "        return self.area\n",
    "\n",
    "    def perimeter(self):\n",
    "        self.perimeter = self.radius * 2 * math.pi\n",
    "        return self.perimeter\n",
    "    \n",
    "\n",
    "\n",
    "    \n"
   ]
  },
  {
   "cell_type": "code",
   "execution_count": 120,
   "metadata": {},
   "outputs": [
    {
     "data": {
      "text/plain": [
       "6.283185307179586"
      ]
     },
     "execution_count": 120,
     "metadata": {},
     "output_type": "execute_result"
    },
    {
     "ename": "",
     "evalue": "",
     "output_type": "error",
     "traceback": [
      "\u001b[1;31mThe Kernel crashed while executing code in the current cell or a previous cell. \n",
      "\u001b[1;31mPlease review the code in the cell(s) to identify a possible cause of the failure. \n",
      "\u001b[1;31mClick <a href='https://aka.ms/vscodeJupyterKernelCrash'>here</a> for more info. \n",
      "\u001b[1;31mView Jupyter <a href='command:jupyter.viewOutput'>log</a> for further details."
     ]
    }
   ],
   "source": [
    "circle = Circle(1)\n",
    "\n",
    "circle.perimeter()\n"
   ]
  },
  {
   "cell_type": "code",
   "execution_count": null,
   "metadata": {},
   "outputs": [],
   "source": [
    "class TicTacToe:\n",
    "\n",
    "    def __init__(self):\n",
    "        self.board = [[],[],[]]\n",
    "\n",
    "    def check_score(self):\n",
    "        \n",
    "        sum_row = 0\n",
    "        i = 0\n",
    "        while sum_row != 3 or sum_row != -3 or i == 2:\n",
    "            sum_row = sum(self.board[i]) \n",
    "            i += 1\n",
    "        \n",
    "\n",
    "        \n",
    "        \n",
    "    def make_move(self, x,y):\n",
    "        \n",
    "        self.board[x,y] = 1\n",
    "        if self.check_score() == 0:\n",
    "\n",
    "\n",
    "\n",
    "\n"
   ]
  }
 ],
 "metadata": {
  "kernelspec": {
   "display_name": "Python 3",
   "language": "python",
   "name": "python3"
  },
  "language_info": {
   "codemirror_mode": {
    "name": "ipython",
    "version": 3
   },
   "file_extension": ".py",
   "mimetype": "text/x-python",
   "name": "python",
   "nbconvert_exporter": "python",
   "pygments_lexer": "ipython3",
   "version": "3.10.11"
  }
 },
 "nbformat": 4,
 "nbformat_minor": 2
}
